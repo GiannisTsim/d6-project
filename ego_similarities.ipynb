{
 "cells": [
  {
   "cell_type": "code",
   "execution_count": 3,
   "metadata": {},
   "outputs": [],
   "source": [
    "import logging\n",
    "import gensim\n",
    "from itertools import combinations\n",
    "\n",
    "logging.basicConfig(\n",
    "    format=\"%(asctime)s : %(levelname)s : %(message)s\", level=logging.INFO\n",
    ")"
   ]
  },
  {
   "cell_type": "code",
   "execution_count": 4,
   "metadata": {},
   "outputs": [
    {
     "name": "stderr",
     "output_type": "stream",
     "text": [
      "2022-06-14 09:39:02,519 : INFO : loading Doc2Vec object from embeddings/models/doc2vec.model\n",
      "2022-06-14 09:39:03,865 : INFO : loading dv recursively from embeddings/models/doc2vec.model.dv.* with mmap=None\n",
      "2022-06-14 09:39:03,866 : INFO : loading vectors from embeddings/models/doc2vec.model.dv.vectors.npy with mmap=None\n",
      "2022-06-14 09:39:05,567 : INFO : loading wv recursively from embeddings/models/doc2vec.model.wv.* with mmap=None\n",
      "2022-06-14 09:39:05,567 : INFO : loading vectors from embeddings/models/doc2vec.model.wv.vectors.npy with mmap=None\n",
      "2022-06-14 09:39:06,672 : INFO : loading syn1neg from embeddings/models/doc2vec.model.syn1neg.npy with mmap=None\n",
      "2022-06-14 09:39:07,776 : INFO : setting ignored attribute cum_table to None\n",
      "2022-06-14 09:39:18,836 : INFO : Doc2Vec lifecycle event {'fname': 'embeddings/models/doc2vec.model', 'datetime': '2022-06-14T09:39:18.836427', 'gensim': '4.2.0', 'python': '3.9.10 (tags/v3.9.10:f2f3f53, Jan 17 2022, 15:14:21) [MSC v.1929 64 bit (AMD64)]', 'platform': 'Windows-10-10.0.22000-SP0', 'event': 'loaded'}\n"
     ]
    }
   ],
   "source": [
    "model: gensim.models.doc2vec.Doc2Vec = gensim.models.doc2vec.Doc2Vec.load(\n",
    "    \"embeddings/models/doc2vec.model\"\n",
    ")"
   ]
  },
  {
   "cell_type": "code",
   "execution_count": 7,
   "metadata": {},
   "outputs": [
    {
     "name": "stdout",
     "output_type": "stream",
     "text": [
      "KyivIndependent x KyivPost: \t\t0.84\n",
      "KyivIndependent x MoscowTimes: \t\t0.82\n",
      "KyivIndependent x RT_com: \t\t0.31\n",
      "KyivIndependent x SputnikInt: \t\t0.33\n",
      "KyivPost x MoscowTimes: \t\t0.78\n",
      "KyivPost x RT_com: \t\t0.26\n",
      "KyivPost x SputnikInt: \t\t0.27\n",
      "MoscowTimes x RT_com: \t\t0.32\n",
      "MoscowTimes x SputnikInt: \t\t0.32\n",
      "RT_com x SputnikInt: \t\t0.99\n"
     ]
    }
   ],
   "source": [
    "nodes =  [\n",
    "    ('1462548977367359490', 'KyivIndependent'), \n",
    "    ('14106476', 'KyivPost'), \n",
    "    ('19527964', 'MoscowTimes'), \n",
    "    ('64643056', 'RT_com'), \n",
    "    ('34262462', 'SputnikInt')]\n",
    "\n",
    "for node1, node2 in combinations(nodes, 2):\n",
    "    sim = model.dv.similarity(node1[0], node2[0])\n",
    "    print(f\"{node1[1]} x {node2[1]}: \\t\\t{sim:.2f}\")"
   ]
  }
 ],
 "metadata": {
  "interpreter": {
   "hash": "8e228462dc0623237a8d396cc121e69e675f1355783c4dcc46480b99d71ce111"
  },
  "kernelspec": {
   "display_name": "Python 3.9.10 64-bit",
   "language": "python",
   "name": "python3"
  },
  "language_info": {
   "codemirror_mode": {
    "name": "ipython",
    "version": 3
   },
   "file_extension": ".py",
   "mimetype": "text/x-python",
   "name": "python",
   "nbconvert_exporter": "python",
   "pygments_lexer": "ipython3",
   "version": "3.9.10"
  },
  "orig_nbformat": 4
 },
 "nbformat": 4,
 "nbformat_minor": 2
}
